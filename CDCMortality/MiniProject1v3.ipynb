{
 "cells": [
  {
   "cell_type": "markdown",
   "metadata": {},
   "source": [
    "Data Questions:\n",
    "\n",
    "Steps:\n",
    "1. Import data\n",
    "2. Clean data\n",
    "3. Output cleaned file\n",
    "4. Import clean file\n",
    "5. Import columns into new Panda dataframe\n",
    "6. Analyse with the pd.describe() function\n",
    "7. Plot some of the graphs "
   ]
  },
  {
   "cell_type": "code",
   "execution_count": 2,
   "metadata": {},
   "outputs": [],
   "source": [
    "import numpy as np\n",
    "import pandas as pd\n",
    "import matplotlib.pyplot as plt\n",
    "import csv\n",
    "import os"
   ]
  },
  {
   "cell_type": "markdown",
   "metadata": {},
   "source": [
    "First, need to import the data into python"
   ]
  },
  {
   "cell_type": "markdown",
   "metadata": {},
   "source": [
    "Data Dictionary\n",
    "\n",
    "https://www.cdc.gov/nchs/data_access/vitalstatsonline.htm#Mortality_Multiple\n",
    "\n",
    "MannerOfDeath = 2:Suicide\n",
    "\n",
    "DeathDow = \n",
    "1:Sunday\n",
    "2:Monday\n",
    "3:Tuesday\n",
    "4:Wednesday\n",
    "5:Thursday\n",
    "6:Friday\n",
    "7:Saturday\n",
    "\n",
    "DeathMonth:\n",
    "10:October\n",
    "11:November\n",
    "12:December\n",
    "01:January\n",
    "02:February\n",
    "03:March\n",
    "04:April\n",
    "05:May\n",
    "06:June\n",
    "07:July\n",
    "08:August\n",
    "09:September"
   ]
  },
  {
   "cell_type": "code",
   "execution_count": 3,
   "metadata": {},
   "outputs": [
    {
     "name": "stdout",
     "output_type": "stream",
     "text": [
      "C:\\Users\\Maximilliano\\Documents\\IST 652 Scripting for Data Science\\MiniProject1\n"
     ]
    }
   ],
   "source": [
    "#print current directory\n",
    "print(os.getcwd())"
   ]
  },
  {
   "cell_type": "code",
   "execution_count": 5,
   "metadata": {},
   "outputs": [
    {
     "name": "stdout",
     "output_type": "stream",
     "text": [
      "Enter the path to the file:C:\\Users\\Maximilliano\\Documents\\IST 652 Scripting for Data Science\\Test\\\n"
     ]
    }
   ],
   "source": [
    "#where is the file located\n",
    "path = input(\"Enter the path to the file:\")\n",
    "\n",
    "#set the current working directory\n",
    "os.chdir(path) "
   ]
  },
  {
   "cell_type": "code",
   "execution_count": 6,
   "metadata": {},
   "outputs": [
    {
     "name": "stdout",
     "output_type": "stream",
     "text": [
      "Enter the file name:Suicide.csv\n"
     ]
    }
   ],
   "source": [
    "data = input(\"Enter the file name:\")\n",
    "\n",
    "\n",
    "#C:\\Users\\Maximilliano\\Documents\\IST 652 Scripting for Data Science\\Test\\Suicide.csv"
   ]
  },
  {
   "cell_type": "code",
   "execution_count": null,
   "metadata": {},
   "outputs": [],
   "source": [
    "#newData = pd.read_csv(\"..\\MiniProject1\\Suicide.csv\")"
   ]
  },
  {
   "cell_type": "code",
   "execution_count": 7,
   "metadata": {},
   "outputs": [],
   "source": [
    "#read in the new data set again.\n",
    "newData = pd.read_csv(data)"
   ]
  },
  {
   "cell_type": "code",
   "execution_count": 8,
   "metadata": {},
   "outputs": [
    {
     "name": "stdout",
     "output_type": "stream",
     "text": [
      "                Age  PlaceOfDeath  MannerOfDeath    DeathMonth      DeathDoW  \\\n",
      "count  31437.000000  31437.000000        31437.0  31437.000000  31437.000000   \n",
      "mean      46.491141      4.423991            2.0      6.589592      3.909056   \n",
      "std       24.188582      1.788236            0.0      3.265887      1.976457   \n",
      "min        8.000000      1.000000            2.0      1.000000      1.000000   \n",
      "25%       31.000000      4.000000            2.0      4.000000      2.000000   \n",
      "50%       46.000000      4.000000            2.0      7.000000      4.000000   \n",
      "75%       60.000000      7.000000            2.0      9.000000      6.000000   \n",
      "max      999.000000      9.000000            2.0     12.000000      9.000000   \n",
      "\n",
      "          Year  \n",
      "count  31437.0  \n",
      "mean    2017.0  \n",
      "std        0.0  \n",
      "min     2017.0  \n",
      "25%     2017.0  \n",
      "50%     2017.0  \n",
      "75%     2017.0  \n",
      "max     2017.0   \n",
      " \n",
      " \n",
      "    Age Sex  PlaceOfDeath  MannerOfDeath  DeathMonth  DeathDoW  Year\n",
      "0   58   F             4              2           1         5  2017\n",
      "1   46   F             7              2           1         1  2017\n",
      "2   37   M             7              2           1         2  2017\n",
      "3   51   M             4              2           1         3  2017\n",
      "4   27   M             4              2           1         3  2017 \n",
      " \n",
      " The column names in the data are:['Age', 'Sex', 'PlaceOfDeath', 'MannerOfDeath', 'DeathMonth', 'DeathDoW', 'Year']\n"
     ]
    }
   ],
   "source": [
    "#print summary statistics for the newData dataframe\n",
    "print(newData.describe(),'\\n','\\n','\\n', newData.head(),'\\n','\\n', 'The column names in the data are:{}'.format(list(newData)))"
   ]
  },
  {
   "cell_type": "code",
   "execution_count": 9,
   "metadata": {},
   "outputs": [
    {
     "name": "stdout",
     "output_type": "stream",
     "text": [
      "The new dataframe is: 31437 x 7\n"
     ]
    }
   ],
   "source": [
    "print(\"The new dataframe is:\",newData.shape[0], 'x', newData.shape[1])"
   ]
  },
  {
   "cell_type": "code",
   "execution_count": 10,
   "metadata": {},
   "outputs": [
    {
     "data": {
      "text/html": [
       "<div>\n",
       "<style scoped>\n",
       "    .dataframe tbody tr th:only-of-type {\n",
       "        vertical-align: middle;\n",
       "    }\n",
       "\n",
       "    .dataframe tbody tr th {\n",
       "        vertical-align: top;\n",
       "    }\n",
       "\n",
       "    .dataframe thead th {\n",
       "        text-align: right;\n",
       "    }\n",
       "</style>\n",
       "<table border=\"1\" class=\"dataframe\">\n",
       "  <thead>\n",
       "    <tr style=\"text-align: right;\">\n",
       "      <th></th>\n",
       "      <th>Age</th>\n",
       "      <th>Sex</th>\n",
       "      <th>PlaceOfDeath</th>\n",
       "      <th>MannerOfDeath</th>\n",
       "      <th>DeathMonth</th>\n",
       "      <th>DeathDoW</th>\n",
       "      <th>Year</th>\n",
       "    </tr>\n",
       "  </thead>\n",
       "  <tbody>\n",
       "    <tr>\n",
       "      <th>0</th>\n",
       "      <td>58</td>\n",
       "      <td>F</td>\n",
       "      <td>4</td>\n",
       "      <td>2</td>\n",
       "      <td>1</td>\n",
       "      <td>5</td>\n",
       "      <td>2017</td>\n",
       "    </tr>\n",
       "    <tr>\n",
       "      <th>1</th>\n",
       "      <td>46</td>\n",
       "      <td>F</td>\n",
       "      <td>7</td>\n",
       "      <td>2</td>\n",
       "      <td>1</td>\n",
       "      <td>1</td>\n",
       "      <td>2017</td>\n",
       "    </tr>\n",
       "    <tr>\n",
       "      <th>2</th>\n",
       "      <td>37</td>\n",
       "      <td>M</td>\n",
       "      <td>7</td>\n",
       "      <td>2</td>\n",
       "      <td>1</td>\n",
       "      <td>2</td>\n",
       "      <td>2017</td>\n",
       "    </tr>\n",
       "    <tr>\n",
       "      <th>3</th>\n",
       "      <td>51</td>\n",
       "      <td>M</td>\n",
       "      <td>4</td>\n",
       "      <td>2</td>\n",
       "      <td>1</td>\n",
       "      <td>3</td>\n",
       "      <td>2017</td>\n",
       "    </tr>\n",
       "    <tr>\n",
       "      <th>4</th>\n",
       "      <td>27</td>\n",
       "      <td>M</td>\n",
       "      <td>4</td>\n",
       "      <td>2</td>\n",
       "      <td>1</td>\n",
       "      <td>3</td>\n",
       "      <td>2017</td>\n",
       "    </tr>\n",
       "  </tbody>\n",
       "</table>\n",
       "</div>"
      ],
      "text/plain": [
       "   Age Sex  PlaceOfDeath  MannerOfDeath  DeathMonth  DeathDoW  Year\n",
       "0   58   F             4              2           1         5  2017\n",
       "1   46   F             7              2           1         1  2017\n",
       "2   37   M             7              2           1         2  2017\n",
       "3   51   M             4              2           1         3  2017\n",
       "4   27   M             4              2           1         3  2017"
      ]
     },
     "execution_count": 10,
     "metadata": {},
     "output_type": "execute_result"
    }
   ],
   "source": [
    "#want to perform the descriptive statistics on a single columns... lets create a function that pulls the column from a dataframe and calculates the mean, max, min)\n",
    "#newData.isna().count()\n",
    "\n",
    "#identified that the .csv has white spaces and needs to be removed\n",
    "newData.columns = newData.columns.str.replace(' ', '') \n",
    "\n",
    "#view the head of the data to validate\n",
    "newData.head()\n",
    "\n"
   ]
  },
  {
   "cell_type": "markdown",
   "metadata": {},
   "source": [
    "now need to use the new dataset and generate some descriptive statistics"
   ]
  },
  {
   "cell_type": "code",
   "execution_count": 11,
   "metadata": {},
   "outputs": [
    {
     "name": "stdout",
     "output_type": "stream",
     "text": [
      "The following are the count of suicides for 2017 by Sex\n",
      " F     6907\n",
      " M    24530\n",
      "Name: Age, dtype: int64\n"
     ]
    }
   ],
   "source": [
    "gender = newData.groupby('Sex').Age.count()\n",
    "print('The following are the count of suicides for 2017 by', gender)"
   ]
  },
  {
   "cell_type": "code",
   "execution_count": null,
   "metadata": {},
   "outputs": [],
   "source": [
    "#female = gender[0]\n",
    "#male = gender[1]\n"
   ]
  },
  {
   "cell_type": "code",
   "execution_count": 12,
   "metadata": {},
   "outputs": [],
   "source": [
    "#(1) Create a new dataframe with just count of Age by Gender\n",
    "analysis1 = newData.groupby(['Age','Sex'], sort=True).size().reset_index(name='Count')\n",
    "#type(analysis1)\n",
    "#analysis1_age = analysis1[['Age', 'Sex']]\n",
    "\n",
    "#last two rows have values of 999, need them removed.\n",
    "analysis1.drop(analysis1.tail(2).index,inplace=True)\n",
    "\n",
    "#create a pivot table to plot against\n",
    "analysis1 = pd.pivot_table(analysis1, index= 'Age', columns = 'Sex', aggfunc=sum)\n",
    "\n",
    "#output dataframe to .csv file in local directory\n",
    "analysis1.to_csv('analysis1.csv', sep=',', encoding='utf-8')\n",
    "#analysis1"
   ]
  },
  {
   "cell_type": "markdown",
   "metadata": {},
   "source": [
    "Plot the age differences to view the similarities between males and females"
   ]
  },
  {
   "cell_type": "code",
   "execution_count": 13,
   "metadata": {
    "scrolled": true
   },
   "outputs": [
    {
     "data": {
      "image/png": "[encoded data removed]",
      "text/plain": [
       "<Figure size 1440x720 with 1 Axes>"
      ]
     },
     "metadata": {
      "needs_background": "light"
     },
     "output_type": "display_data"
    }
   ],
   "source": [
    "#analysis1.plot.bar(rot=0, subplots=True) <- plots both male and female in different graphs\n",
    "analysis1_plot = analysis1.plot(title=\"Total Suicides by Age\", use_index=False, figsize=(20,10))\n",
    "\n",
    "\n"
   ]
  },
  {
   "cell_type": "code",
   "execution_count": 14,
   "metadata": {},
   "outputs": [],
   "source": [
    "#save the plot\n",
    "fig = analysis1_plot.get_figure()\n",
    "fig.savefig('analysis1_plot.png', transparent = False)"
   ]
  },
  {
   "cell_type": "markdown",
   "metadata": {},
   "source": [
    "1B. What is the mean age for males and females suicide for 2017?"
   ]
  },
  {
   "cell_type": "code",
   "execution_count": 15,
   "metadata": {},
   "outputs": [
    {
     "name": "stdout",
     "output_type": "stream",
     "text": [
      "The average male suicide age for 2017 is 54 and the max age is 103.\n"
     ]
    }
   ],
   "source": [
    "male = newData.loc[(newData['Sex'] == ' M')]\n",
    "male = male.groupby(['Age', 'DeathDoW'], sort=True).size().reset_index(name='Count')\n",
    "\n",
    "#last 3 rows have age = 999, need removed\n",
    "male.drop(male.tail(3).index,inplace=True)\n",
    "male_mean = male['Age'].mean()\n",
    "\n",
    "male_max = male['Age'].max()\n",
    "\n",
    "print('The average male suicide age for 2017 is {} and the max age is {}.'.format(int(male_mean), male_max))\n",
    "\n"
   ]
  },
  {
   "cell_type": "code",
   "execution_count": 16,
   "metadata": {},
   "outputs": [
    {
     "name": "stdout",
     "output_type": "stream",
     "text": [
      "The minimum age is 10, the average for 2017 is 51, and the max age is 102.\n"
     ]
    }
   ],
   "source": [
    "female = newData.loc[(newData['Sex'] == ' F')]\n",
    "female = female.groupby(['Age', 'DeathDoW'], sort=True).size().reset_index(name='Count')\n",
    "\n",
    "#last 2 rows have age = 999, need removed\n",
    "female.drop(female.tail(2).index,inplace=True)\n",
    "\n",
    "female_min = female['Age'].min()\n",
    "\n",
    "female_mean = female['Age'].mean()\n",
    "\n",
    "female_max = female['Age'].max()\n",
    "\n",
    "print('The minimum female age is {}, the average for 2017 is {}, and the max age is {}.'.format(female_min, int(female_mean), female_max))\n"
   ]
  },
  {
   "cell_type": "markdown",
   "metadata": {},
   "source": [
    "#(2) How many suicides by day of the week?"
   ]
  },
  {
   "cell_type": "code",
   "execution_count": 17,
   "metadata": {
    "scrolled": true
   },
   "outputs": [
    {
     "name": "stdout",
     "output_type": "stream",
     "text": [
      "AxesSubplot(0.125,0.125;0.775x0.755)            Age      \n",
      "Sex          F     M\n",
      "DeathDoW            \n",
      "1         1003  3462\n",
      "2         1091  3897\n",
      "3         1005  3668\n",
      "4          954  3582\n",
      "5         1019  3381\n",
      "6          951  3397\n",
      "7          876  3126\n"
     ]
    },
    {
     "data": {
      "image/png": "[encoded data removed]",
      "text/plain": [
       "<Figure size 1440x720 with 1 Axes>"
      ]
     },
     "metadata": {
      "needs_background": "light"
     },
     "output_type": "display_data"
    }
   ],
   "source": [
    "analysis2 = newData[['Age', 'Sex', 'DeathDoW']].sort_values('Age')\n",
    "\n",
    "\n",
    "#analysis2 = newData.groupby(['Age','Sex', 'DeathDoW'], sort=True).size().reset_index(name='Count')\n",
    "\n",
    "\n",
    "#need to remove the last 8 rows because age  = 999\n",
    "analysis2.drop(analysis2.tail(8).index,inplace=True)\n",
    "\n",
    "analysis2 = pd.pivot_table(analysis2, index= 'DeathDoW', columns = 'Sex', aggfunc='count')\n",
    "\n",
    "#remove last row because there is no day 9, it is unknown\n",
    "analysis2.drop(analysis2.tail(1).index,inplace=True)\n",
    "\n",
    "\n",
    "analysis2_plot = analysis2.plot(title=\"Suicides by Day\", use_index=False, figsize=(20,10))\n",
    "\n",
    "analysis2.to_csv('analysis2.csv', sep=',', encoding='utf-8')\n",
    "\n",
    "#save the plot\n",
    "fig = analysis2_plot.get_figure()\n",
    "fig.savefig('analysis2_plot.png', transparent = False)\n",
    "\n",
    "print(analysis2_plot, analysis2)"
   ]
  },
  {
   "cell_type": "code",
   "execution_count": 18,
   "metadata": {},
   "outputs": [
    {
     "name": "stdout",
     "output_type": "stream",
     "text": [
      "The day in 2017 with the most Suicides is Monday with 1091 female and 3897 male deaths.\n"
     ]
    }
   ],
   "source": [
    "female_monday = analysis2.iloc[1,0]\n",
    "male_monday = analysis2.iloc[1,1]\n",
    "\n",
    "print('The day in 2017 with the most Suicides is Monday with {} female and {} male deaths.'.format(female_monday, male_monday))\n"
   ]
  },
  {
   "cell_type": "markdown",
   "metadata": {},
   "source": [
    "(3) What is the suicides by month count? "
   ]
  },
  {
   "cell_type": "code",
   "execution_count": 19,
   "metadata": {},
   "outputs": [
    {
     "name": "stdout",
     "output_type": "stream",
     "text": [
      "AxesSubplot(0.125,0.125;0.775x0.755)             Age      \n",
      "Sex           F     M\n",
      "DeathMonth           \n",
      "1           485  1586\n",
      "2           489  1744\n",
      "3           534  1946\n",
      "4           582  2095\n",
      "5           621  2292\n",
      "6           672  2233\n",
      "7           660  2381\n",
      "8           649  2327\n",
      "9           622  2116\n",
      "10          600  2172\n",
      "11          551  1963\n",
      "12          440  1669\n"
     ]
    },
    {
     "data": {
      "image/png": "[encoded data removed]",
      "text/plain": [
       "<Figure size 1440x720 with 1 Axes>"
      ]
     },
     "metadata": {
      "needs_background": "light"
     },
     "output_type": "display_data"
    }
   ],
   "source": [
    "analysis3 = newData[['Age', 'Sex', 'DeathMonth']].sort_values('Age')\n",
    "\n",
    "#analysis2 = newData.groupby(['Age','Sex', 'DeathDoW'], sort=True).size().reset_index(name='Count')\n",
    "\n",
    "\n",
    "#need to remove the last 8 rows because age  = 999\n",
    "analysis3.drop(analysis3.tail(8).index,inplace=True)\n",
    "\n",
    "analysis3 = pd.pivot_table(analysis3, index= 'DeathMonth', columns = 'Sex', aggfunc='count')\n",
    "\n",
    "analysis3_plot = analysis3.plot(title=\"Suicides by Day\", use_index=False, figsize = (20,10))\n",
    "\n",
    "analysis3.to_csv('analysis3.csv', sep=',', encoding='utf-8')\n",
    "\n",
    "#save the plot\n",
    "fig = analysis3_plot.get_figure()\n",
    "fig.savefig('analysis3_plot.png', transparent = False)\n",
    "\n",
    "print(analysis3_plot, analysis3)"
   ]
  },
  {
   "cell_type": "code",
   "execution_count": 63,
   "metadata": {},
   "outputs": [
    {
     "name": "stdout",
     "output_type": "stream",
     "text": [
      "In 2017, The females suicides by month are:      0    1\n",
      "0   Jan  485\n",
      "1   Feb  489\n",
      "2   Mar  534\n",
      "3   Apr  582\n",
      "4   May  621\n",
      "5   Jun  672\n",
      "6   Jul  660\n",
      "7   Aug  649\n",
      "8   Sep  622\n",
      "9   Oct  600\n",
      "10  Nov  551\n",
      "11  Dec  440 \n",
      "\n",
      "    and \n",
      "\n",
      " male suicides are:       0     1\n",
      "0   Jan  1586\n",
      "1   Feb  1744\n",
      "2   Mar  1946\n",
      "3   Apr  2095\n",
      "4   May  2292\n",
      "5   Jun  2233\n",
      "6   Jul  2381\n",
      "7   Aug  2327\n",
      "8   Sep  2116\n",
      "9   Oct  2172\n",
      "10  Nov  1963\n",
      "11  Dec  1669.\n"
     ]
    }
   ],
   "source": [
    "female_months = analysis3.iloc[0:12,0]\n",
    "\n",
    "Months = ['Jan', 'Feb', 'Mar', 'Apr', 'May', 'Jun', 'Jul', 'Aug', 'Sep', 'Oct', 'Nov', 'Dec']\n",
    "f_months = [i for i in female_months]\n",
    "female_suicide_count = [(mon, val) for mon,val in zip(Months, f_months)]     \n",
    "\n",
    "male_months = analysis3.iloc[0:12,1]\n",
    "m_months = [i for i in male_months]\n",
    "male_suicide_count = [(mon, val) for mon,val in zip(Months, m_months)]  \n",
    "\n",
    "print('In 2017, The females suicides by month are:{} \\n\\n    and \\n\\n male suicides are: {}.'.format(pd.DataFrame(female_suicide_count), pd.DataFrame(male_suicide_count)))"
   ]
  },
  {
   "cell_type": "markdown",
   "metadata": {},
   "source": [
    "(4) What month to day combination resulsts in the highest suicides?"
   ]
  },
  {
   "cell_type": "code",
   "execution_count": 33,
   "metadata": {},
   "outputs": [
    {
     "name": "stdout",
     "output_type": "stream",
     "text": [
      "AxesSubplot(0.125,0.125;0.775x0.755)             Count                                                        \\\n",
      "Sex             F                                                     M   \n",
      "DeathDoW        1      2      3      4      5      6      7    9      1   \n",
      "DeathMonth                                                                \n",
      "1            70.0   93.0   78.0   61.0   68.0   61.0   54.0  NaN  233.0   \n",
      "2            66.0   75.0   74.0   73.0   82.0   60.0   58.0  1.0  252.0   \n",
      "3            70.0   76.0   84.0   83.0   80.0   91.0   49.0  1.0  265.0   \n",
      "4            86.0   88.0   78.0   76.0   82.0   87.0   85.0  NaN  336.0   \n",
      "5            76.0  100.0  110.0  103.0   87.0   79.0   67.0  NaN  272.0   \n",
      "6            88.0  100.0   74.0   78.0  128.0  104.0   99.0  1.0  297.0   \n",
      "7           113.0  125.0   82.0   72.0   83.0   96.0   89.0  NaN  362.0   \n",
      "8            97.0   92.0  118.0   96.0  103.0   74.0   69.0  NaN  293.0   \n",
      "9            88.0   88.0   82.0   78.0   85.0   90.0  111.0  NaN  266.0   \n",
      "10          100.0  102.0  109.0   83.0   77.0   71.0   58.0  NaN  360.0   \n",
      "11           81.0   88.0   70.0   99.0   81.0   65.0   66.0  1.0  251.0   \n",
      "12           68.0   65.0   46.0   52.0   64.0   73.0   71.0  2.0  276.0   \n",
      "\n",
      "                                                           \n",
      "Sex                                                        \n",
      "DeathDoW        2      3      4      5      6      7    9  \n",
      "DeathMonth                                                 \n",
      "1           273.0  274.0  237.0  201.0  198.0  170.0  NaN  \n",
      "2           267.0  275.0  273.0  222.0  225.0  229.0  1.0  \n",
      "3           306.0  261.0  288.0  294.0  308.0  224.0  NaN  \n",
      "4           308.0  282.0  276.0  286.0  289.0  319.0  NaN  \n",
      "5           416.0  394.0  377.0  275.0  299.0  259.0  1.0  \n",
      "6           308.0  309.0  284.0  369.0  381.0  285.0  1.0  \n",
      "7           423.0  313.0  331.0  330.0  297.0  325.0  1.0  \n",
      "8           345.0  394.0  379.0  350.0  291.0  273.0  2.0  \n",
      "9           298.0  315.0  290.0  284.0  357.0  306.0  1.0  \n",
      "10          389.0  356.0  285.0  263.0  284.0  234.0  2.0  \n",
      "11          319.0  259.0  333.0  305.0  235.0  260.0  1.0  \n",
      "12          245.0  236.0  232.0  204.0  233.0  242.0  1.0  \n"
     ]
    },
    {
     "data": {
      "image/png": "[encoded data removed]",
      "text/plain": [
       "<Figure size 1440x720 with 1 Axes>"
      ]
     },
     "metadata": {
      "needs_background": "light"
     },
     "output_type": "display_data"
    }
   ],
   "source": [
    "analysis4 = newData[['Sex', 'DeathMonth', 'DeathDoW']]\n",
    "\n",
    "\n",
    "analysis4 = newData.groupby(['Sex', 'DeathMonth', 'DeathDoW'], sort=True).size().reset_index(name='Count')\n",
    "\n",
    "#need to remove the last 8 rows because age  = 999\n",
    "#analysis4.drop(analysis3.tail(8).index,inplace=True)\n",
    "\n",
    "analysis4 = pd.pivot_table(analysis4, index= 'DeathMonth', columns = ['Sex', 'DeathDoW'])\n",
    "\n",
    "\n",
    "#plot the dataframe to see where the most values occur\n",
    "analysis4_plot = analysis4.plot(title=\"Suicides by Death\", use_index=False, kind = 'bar', figsize=(20,10))\n",
    "\n",
    "#save the plot\n",
    "fig = analysis4_plot.get_figure()\n",
    "fig.savefig('analysis4_plot.png', transparent = False)\n",
    "\n",
    "print(analysis4_plot, analysis4)"
   ]
  },
  {
   "cell_type": "code",
   "execution_count": 64,
   "metadata": {
    "scrolled": true
   },
   "outputs": [
    {
     "data": {
      "text/html": [
       "<div>\n",
       "<style scoped>\n",
       "    .dataframe tbody tr th:only-of-type {\n",
       "        vertical-align: middle;\n",
       "    }\n",
       "\n",
       "    .dataframe tbody tr th {\n",
       "        vertical-align: top;\n",
       "    }\n",
       "\n",
       "    .dataframe thead tr th {\n",
       "        text-align: left;\n",
       "    }\n",
       "\n",
       "    .dataframe thead tr:last-of-type th {\n",
       "        text-align: right;\n",
       "    }\n",
       "</style>\n",
       "<table border=\"1\" class=\"dataframe\">\n",
       "  <thead>\n",
       "    <tr>\n",
       "      <th></th>\n",
       "      <th colspan=\"16\" halign=\"left\">Count</th>\n",
       "      <th>max_value</th>\n",
       "    </tr>\n",
       "    <tr>\n",
       "      <th>Sex</th>\n",
       "      <th colspan=\"8\" halign=\"left\">F</th>\n",
       "      <th colspan=\"8\" halign=\"left\">M</th>\n",
       "      <th></th>\n",
       "    </tr>\n",
       "    <tr>\n",
       "      <th>DeathDoW</th>\n",
       "      <th>1</th>\n",
       "      <th>2</th>\n",
       "      <th>3</th>\n",
       "      <th>4</th>\n",
       "      <th>5</th>\n",
       "      <th>6</th>\n",
       "      <th>7</th>\n",
       "      <th>9</th>\n",
       "      <th>1</th>\n",
       "      <th>2</th>\n",
       "      <th>3</th>\n",
       "      <th>4</th>\n",
       "      <th>5</th>\n",
       "      <th>6</th>\n",
       "      <th>7</th>\n",
       "      <th>9</th>\n",
       "      <th></th>\n",
       "    </tr>\n",
       "    <tr>\n",
       "      <th>DeathMonth</th>\n",
       "      <th></th>\n",
       "      <th></th>\n",
       "      <th></th>\n",
       "      <th></th>\n",
       "      <th></th>\n",
       "      <th></th>\n",
       "      <th></th>\n",
       "      <th></th>\n",
       "      <th></th>\n",
       "      <th></th>\n",
       "      <th></th>\n",
       "      <th></th>\n",
       "      <th></th>\n",
       "      <th></th>\n",
       "      <th></th>\n",
       "      <th></th>\n",
       "      <th></th>\n",
       "    </tr>\n",
       "  </thead>\n",
       "  <tbody>\n",
       "    <tr>\n",
       "      <th>1</th>\n",
       "      <td>70.0</td>\n",
       "      <td>93.0</td>\n",
       "      <td>78.0</td>\n",
       "      <td>61.0</td>\n",
       "      <td>68.0</td>\n",
       "      <td>61.0</td>\n",
       "      <td>54.0</td>\n",
       "      <td>NaN</td>\n",
       "      <td>233.0</td>\n",
       "      <td>273.0</td>\n",
       "      <td>274.0</td>\n",
       "      <td>237.0</td>\n",
       "      <td>201.0</td>\n",
       "      <td>198.0</td>\n",
       "      <td>170.0</td>\n",
       "      <td>NaN</td>\n",
       "      <td>274.0</td>\n",
       "    </tr>\n",
       "    <tr>\n",
       "      <th>2</th>\n",
       "      <td>66.0</td>\n",
       "      <td>75.0</td>\n",
       "      <td>74.0</td>\n",
       "      <td>73.0</td>\n",
       "      <td>82.0</td>\n",
       "      <td>60.0</td>\n",
       "      <td>58.0</td>\n",
       "      <td>1.0</td>\n",
       "      <td>252.0</td>\n",
       "      <td>267.0</td>\n",
       "      <td>275.0</td>\n",
       "      <td>273.0</td>\n",
       "      <td>222.0</td>\n",
       "      <td>225.0</td>\n",
       "      <td>229.0</td>\n",
       "      <td>1.0</td>\n",
       "      <td>275.0</td>\n",
       "    </tr>\n",
       "    <tr>\n",
       "      <th>3</th>\n",
       "      <td>70.0</td>\n",
       "      <td>76.0</td>\n",
       "      <td>84.0</td>\n",
       "      <td>83.0</td>\n",
       "      <td>80.0</td>\n",
       "      <td>91.0</td>\n",
       "      <td>49.0</td>\n",
       "      <td>1.0</td>\n",
       "      <td>265.0</td>\n",
       "      <td>306.0</td>\n",
       "      <td>261.0</td>\n",
       "      <td>288.0</td>\n",
       "      <td>294.0</td>\n",
       "      <td>308.0</td>\n",
       "      <td>224.0</td>\n",
       "      <td>NaN</td>\n",
       "      <td>308.0</td>\n",
       "    </tr>\n",
       "    <tr>\n",
       "      <th>4</th>\n",
       "      <td>86.0</td>\n",
       "      <td>88.0</td>\n",
       "      <td>78.0</td>\n",
       "      <td>76.0</td>\n",
       "      <td>82.0</td>\n",
       "      <td>87.0</td>\n",
       "      <td>85.0</td>\n",
       "      <td>NaN</td>\n",
       "      <td>336.0</td>\n",
       "      <td>308.0</td>\n",
       "      <td>282.0</td>\n",
       "      <td>276.0</td>\n",
       "      <td>286.0</td>\n",
       "      <td>289.0</td>\n",
       "      <td>319.0</td>\n",
       "      <td>NaN</td>\n",
       "      <td>336.0</td>\n",
       "    </tr>\n",
       "    <tr>\n",
       "      <th>5</th>\n",
       "      <td>76.0</td>\n",
       "      <td>100.0</td>\n",
       "      <td>110.0</td>\n",
       "      <td>103.0</td>\n",
       "      <td>87.0</td>\n",
       "      <td>79.0</td>\n",
       "      <td>67.0</td>\n",
       "      <td>NaN</td>\n",
       "      <td>272.0</td>\n",
       "      <td>416.0</td>\n",
       "      <td>394.0</td>\n",
       "      <td>377.0</td>\n",
       "      <td>275.0</td>\n",
       "      <td>299.0</td>\n",
       "      <td>259.0</td>\n",
       "      <td>1.0</td>\n",
       "      <td>416.0</td>\n",
       "    </tr>\n",
       "    <tr>\n",
       "      <th>6</th>\n",
       "      <td>88.0</td>\n",
       "      <td>100.0</td>\n",
       "      <td>74.0</td>\n",
       "      <td>78.0</td>\n",
       "      <td>128.0</td>\n",
       "      <td>104.0</td>\n",
       "      <td>99.0</td>\n",
       "      <td>1.0</td>\n",
       "      <td>297.0</td>\n",
       "      <td>308.0</td>\n",
       "      <td>309.0</td>\n",
       "      <td>284.0</td>\n",
       "      <td>369.0</td>\n",
       "      <td>381.0</td>\n",
       "      <td>285.0</td>\n",
       "      <td>1.0</td>\n",
       "      <td>381.0</td>\n",
       "    </tr>\n",
       "    <tr>\n",
       "      <th>7</th>\n",
       "      <td>113.0</td>\n",
       "      <td>125.0</td>\n",
       "      <td>82.0</td>\n",
       "      <td>72.0</td>\n",
       "      <td>83.0</td>\n",
       "      <td>96.0</td>\n",
       "      <td>89.0</td>\n",
       "      <td>NaN</td>\n",
       "      <td>362.0</td>\n",
       "      <td>423.0</td>\n",
       "      <td>313.0</td>\n",
       "      <td>331.0</td>\n",
       "      <td>330.0</td>\n",
       "      <td>297.0</td>\n",
       "      <td>325.0</td>\n",
       "      <td>1.0</td>\n",
       "      <td>423.0</td>\n",
       "    </tr>\n",
       "    <tr>\n",
       "      <th>8</th>\n",
       "      <td>97.0</td>\n",
       "      <td>92.0</td>\n",
       "      <td>118.0</td>\n",
       "      <td>96.0</td>\n",
       "      <td>103.0</td>\n",
       "      <td>74.0</td>\n",
       "      <td>69.0</td>\n",
       "      <td>NaN</td>\n",
       "      <td>293.0</td>\n",
       "      <td>345.0</td>\n",
       "      <td>394.0</td>\n",
       "      <td>379.0</td>\n",
       "      <td>350.0</td>\n",
       "      <td>291.0</td>\n",
       "      <td>273.0</td>\n",
       "      <td>2.0</td>\n",
       "      <td>394.0</td>\n",
       "    </tr>\n",
       "    <tr>\n",
       "      <th>9</th>\n",
       "      <td>88.0</td>\n",
       "      <td>88.0</td>\n",
       "      <td>82.0</td>\n",
       "      <td>78.0</td>\n",
       "      <td>85.0</td>\n",
       "      <td>90.0</td>\n",
       "      <td>111.0</td>\n",
       "      <td>NaN</td>\n",
       "      <td>266.0</td>\n",
       "      <td>298.0</td>\n",
       "      <td>315.0</td>\n",
       "      <td>290.0</td>\n",
       "      <td>284.0</td>\n",
       "      <td>357.0</td>\n",
       "      <td>306.0</td>\n",
       "      <td>1.0</td>\n",
       "      <td>357.0</td>\n",
       "    </tr>\n",
       "    <tr>\n",
       "      <th>10</th>\n",
       "      <td>100.0</td>\n",
       "      <td>102.0</td>\n",
       "      <td>109.0</td>\n",
       "      <td>83.0</td>\n",
       "      <td>77.0</td>\n",
       "      <td>71.0</td>\n",
       "      <td>58.0</td>\n",
       "      <td>NaN</td>\n",
       "      <td>360.0</td>\n",
       "      <td>389.0</td>\n",
       "      <td>356.0</td>\n",
       "      <td>285.0</td>\n",
       "      <td>263.0</td>\n",
       "      <td>284.0</td>\n",
       "      <td>234.0</td>\n",
       "      <td>2.0</td>\n",
       "      <td>389.0</td>\n",
       "    </tr>\n",
       "    <tr>\n",
       "      <th>11</th>\n",
       "      <td>81.0</td>\n",
       "      <td>88.0</td>\n",
       "      <td>70.0</td>\n",
       "      <td>99.0</td>\n",
       "      <td>81.0</td>\n",
       "      <td>65.0</td>\n",
       "      <td>66.0</td>\n",
       "      <td>1.0</td>\n",
       "      <td>251.0</td>\n",
       "      <td>319.0</td>\n",
       "      <td>259.0</td>\n",
       "      <td>333.0</td>\n",
       "      <td>305.0</td>\n",
       "      <td>235.0</td>\n",
       "      <td>260.0</td>\n",
       "      <td>1.0</td>\n",
       "      <td>333.0</td>\n",
       "    </tr>\n",
       "    <tr>\n",
       "      <th>12</th>\n",
       "      <td>68.0</td>\n",
       "      <td>65.0</td>\n",
       "      <td>46.0</td>\n",
       "      <td>52.0</td>\n",
       "      <td>64.0</td>\n",
       "      <td>73.0</td>\n",
       "      <td>71.0</td>\n",
       "      <td>2.0</td>\n",
       "      <td>276.0</td>\n",
       "      <td>245.0</td>\n",
       "      <td>236.0</td>\n",
       "      <td>232.0</td>\n",
       "      <td>204.0</td>\n",
       "      <td>233.0</td>\n",
       "      <td>242.0</td>\n",
       "      <td>1.0</td>\n",
       "      <td>276.0</td>\n",
       "    </tr>\n",
       "  </tbody>\n",
       "</table>\n",
       "</div>"
      ],
      "text/plain": [
       "            Count                                                        \\\n",
       "Sex             F                                                     M   \n",
       "DeathDoW        1      2      3      4      5      6      7    9      1   \n",
       "DeathMonth                                                                \n",
       "1            70.0   93.0   78.0   61.0   68.0   61.0   54.0  NaN  233.0   \n",
       "2            66.0   75.0   74.0   73.0   82.0   60.0   58.0  1.0  252.0   \n",
       "3            70.0   76.0   84.0   83.0   80.0   91.0   49.0  1.0  265.0   \n",
       "4            86.0   88.0   78.0   76.0   82.0   87.0   85.0  NaN  336.0   \n",
       "5            76.0  100.0  110.0  103.0   87.0   79.0   67.0  NaN  272.0   \n",
       "6            88.0  100.0   74.0   78.0  128.0  104.0   99.0  1.0  297.0   \n",
       "7           113.0  125.0   82.0   72.0   83.0   96.0   89.0  NaN  362.0   \n",
       "8            97.0   92.0  118.0   96.0  103.0   74.0   69.0  NaN  293.0   \n",
       "9            88.0   88.0   82.0   78.0   85.0   90.0  111.0  NaN  266.0   \n",
       "10          100.0  102.0  109.0   83.0   77.0   71.0   58.0  NaN  360.0   \n",
       "11           81.0   88.0   70.0   99.0   81.0   65.0   66.0  1.0  251.0   \n",
       "12           68.0   65.0   46.0   52.0   64.0   73.0   71.0  2.0  276.0   \n",
       "\n",
       "                                                          max_value  \n",
       "Sex                                                                  \n",
       "DeathDoW        2      3      4      5      6      7    9            \n",
       "DeathMonth                                                           \n",
       "1           273.0  274.0  237.0  201.0  198.0  170.0  NaN     274.0  \n",
       "2           267.0  275.0  273.0  222.0  225.0  229.0  1.0     275.0  \n",
       "3           306.0  261.0  288.0  294.0  308.0  224.0  NaN     308.0  \n",
       "4           308.0  282.0  276.0  286.0  289.0  319.0  NaN     336.0  \n",
       "5           416.0  394.0  377.0  275.0  299.0  259.0  1.0     416.0  \n",
       "6           308.0  309.0  284.0  369.0  381.0  285.0  1.0     381.0  \n",
       "7           423.0  313.0  331.0  330.0  297.0  325.0  1.0     423.0  \n",
       "8           345.0  394.0  379.0  350.0  291.0  273.0  2.0     394.0  \n",
       "9           298.0  315.0  290.0  284.0  357.0  306.0  1.0     357.0  \n",
       "10          389.0  356.0  285.0  263.0  284.0  234.0  2.0     389.0  \n",
       "11          319.0  259.0  333.0  305.0  235.0  260.0  1.0     333.0  \n",
       "12          245.0  236.0  232.0  204.0  233.0  242.0  1.0     276.0  "
      ]
     },
     "execution_count": 64,
     "metadata": {},
     "output_type": "execute_result"
    }
   ],
   "source": [
    "# making boolean series for a team name \n",
    "#filter1 = analysis4.where[\"DeathMonth\"]== \n",
    "analysis4.max()\n",
    "\n",
    "analysis4['max_value'] = analysis4.max(axis=1)\n",
    "\n",
    "analysis4.to_csv('analysis4.csv', sep=',', encoding='utf-8')\n",
    "\n",
    "analysis4"
   ]
  },
  {
   "cell_type": "code",
   "execution_count": null,
   "metadata": {},
   "outputs": [],
   "source": []
  }
 ],
 "metadata": {
  "kernelspec": {
   "display_name": "Python 3",
   "language": "python",
   "name": "python3"
  },
  "language_info": {
   "codemirror_mode": {
    "name": "ipython",
    "version": 3
   },
   "file_extension": ".py",
   "mimetype": "text/x-python",
   "name": "python",
   "nbconvert_exporter": "python",
   "pygments_lexer": "ipython3",
   "version": "3.7.3"
  }
 },
 "nbformat": 4,
 "nbformat_minor": 2
}
