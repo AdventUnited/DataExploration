{
 "cells": [
  {
   "cell_type": "markdown",
   "metadata": {},
   "source": [
    "# Reading in Shodan Data"
   ]
  },
  {
   "cell_type": "code",
   "execution_count": 3,
   "metadata": {},
   "outputs": [],
   "source": [
    "import shodan\n",
    "import pandas as pd\n",
    "from pandas.io.json import json_normalize\n",
    "import json"
   ]
  },
  {
   "cell_type": "code",
   "execution_count": 4,
   "metadata": {},
   "outputs": [
    {
     "name": "stdout",
     "output_type": "stream",
     "text": [
      "Please enter a the .json file and location:mongo.json\n",
      "Please wait... loading will take about 30 seconds\n"
     ]
    }
   ],
   "source": [
    "filez = str(input(\"Please enter a the .json file and location:\"))\n",
    "print(\"Please wait... loading will take about 30 seconds\")"
   ]
  },
  {
   "cell_type": "code",
   "execution_count": 5,
   "metadata": {},
   "outputs": [],
   "source": [
    "#creates a list to place the iternation into\n",
    "shodan_mongo = []\n",
    "#opens the file from the user input\n",
    "with open(filez) as mongo:\n",
    "    for line in mongo:\n",
    "            #appends each line as a string to the list\n",
    "            shodan_mongo.append(json.loads(line))\n"
   ]
  },
  {
   "cell_type": "code",
   "execution_count": 6,
   "metadata": {},
   "outputs": [
    {
     "name": "stdout",
     "output_type": "stream",
     "text": [
      "THERE ARE 24303 MONGODB SERVERS ACTIVE IN THE UNITED STATES!!\n",
      "AUTOMATED CLEANING IS TAKING PLACE, PLEASE WAIT...\n"
     ]
    }
   ],
   "source": [
    "print(\"THERE ARE\", len(shodan_mongo), \"MONGODB SERVERS ACTIVE IN THE UNITED STATES!!\")\n",
    "print(\"AUTOMATED CLEANING IS TAKING PLACE, PLEASE WAIT...\")"
   ]
  },
  {
   "cell_type": "code",
   "execution_count": 16,
   "metadata": {},
   "outputs": [
    {
     "data": {
      "text/plain": [
       "dict_keys(['product', 'hash', 'version', 'tags', 'opts', 'ip', 'isp', 'os', '_shodan', 'mongodb', 'hostnames', 'location', 'timestamp', 'domains', 'org', 'data', 'port', 'transport', 'ip_str'])"
      ]
     },
     "execution_count": 16,
     "metadata": {},
     "output_type": "execute_result"
    }
   ],
   "source": [
    "shodan_mongo[1].keys()"
   ]
  },
  {
   "cell_type": "code",
   "execution_count": 17,
   "metadata": {},
   "outputs": [],
   "source": [
    "#mongoList = shodan_mongo[6:24303]\n",
    "mongoList = shodan_mongo"
   ]
  },
  {
   "cell_type": "code",
   "execution_count": 18,
   "metadata": {},
   "outputs": [
    {
     "name": "stdout",
     "output_type": "stream",
     "text": [
      "THE JSON FILE IS BEING FLATTENED!\n",
      "DID YOU KNOW MONGODB'S DEFAULT PORT IS 27017 !!\n"
     ]
    }
   ],
   "source": [
    "#there are several keys and values in each dictionary we do not need, they are dropped below\n",
    "deleted = list(map(lambda d: d.pop('_shodan'), mongoList))\n",
    "deleted = list(map(lambda d: d.pop('hash'), mongoList))\n",
    "deleted = list(map(lambda d: d.pop('opts'), mongoList))\n",
    "deleted = list(map(lambda d: d.pop('data'), mongoList))\n",
    "print(\"THE JSON FILE IS BEING FLATTENED!\")\n",
    "print(\"DID YOU KNOW MONGODB'S DEFAULT PORT IS 27017 !!\")"
   ]
  },
  {
   "cell_type": "code",
   "execution_count": 19,
   "metadata": {},
   "outputs": [
    {
     "data": {
      "text/plain": [
       "dict_items([('product', 'MongoDB'), ('version', '1.8.2'), ('tags', ['database']), ('ip', 3462618701), ('isp', 'Savvis'), ('os', None), ('port', 27017), ('mongodb', {'authentication': True, 'serverStatus': {'backgroundFlushing': {'last_ms': 0, 'last_finished': '2019-04-16T15:34:09.175000', 'flushes': 1532893, 'average_ms': 0.02522485261528365, 'total_ms': 38667}, 'note': 'run against admin for more info', 'uptime': 91973797.0, 'ok': 1.0, 'network': {'numRequests': 384114, 'bytesIn': 26673406, 'bytesOut': 35240991}, 'opcounters': {'getmore': 0, 'insert': 0, 'update': 2, 'command': 384099, 'query': 16, 'delete': 0}, 'process': 'mongod', 'uptimeEstimate': 91238460.0, 'cursors': {'clientCursors_size': 0, 'timedOut': 0, 'totalOpen': 0}, 'connections': {'current': 1, 'available': 19999}, 'mem': {'resident': 2, 'supported': True, 'bits': 32, 'virtual': 96, 'mapped': 0}, 'host': 'DNA-412', 'version': '1.8.2', 'indexCounters': {'btree': {'missRatio': 0.0, 'resets': 0, 'hits': 0, 'accesses': 0, 'misses': 0}}, 'asserts': {'msg': 0, 'rollovers': 0, 'warning': 6, 'user': 3411, 'regular': 135}, 'writeBacksQueued': False, 'globalLock': {'totalTime': 91973796166846.0, 'ratio': 3.6786129756592643e-09, 'lockTime': 338336.0, 'currentQueue': {'total': 0, 'writers': 0, 'readers': 0}, 'activeClients': {'total': 0, 'writers': 0, 'readers': 0}}, 'localTime': '2019-04-16T15:35:08.099000', 'extra_info': {'note': 'fields vary by platform', 'page_faults': 3848, 'heap_usage_bytes': 203920}}, 'buildInfo': {'ok': 1.0, 'bits': 32, 'version': '1.8.2', 'debug': False, 'maxBsonObjectSize': 16777216, 'sysInfo': 'Linux bs-linux32.10gen.cc 2.6.21.7-2.fc8xen #1 SMP Fri Feb 15 12:39:36 EST 2008 i686 BOOST_LIB_VERSION=1_37', 'gitVersion': '433bbaa14aaba6860da15bd4de8edf600f56501b'}}), ('hostnames', []), ('location', {'city': None, 'region_code': None, 'area_code': None, 'longitude': -97.822, 'country_code3': 'USA', 'country_name': 'United States', 'postal_code': None, 'dma_code': None, 'country_code': 'US', 'latitude': 37.751000000000005}), ('timestamp', '2019-04-16T15:35:09.238250'), ('domains', []), ('org', 'CenturyLink'), ('asn', 'AS209'), ('transport', 'tcp'), ('ip_str', '206.99.94.77')])"
      ]
     },
     "execution_count": 19,
     "metadata": {},
     "output_type": "execute_result"
    }
   ],
   "source": [
    "mongoList[5432].items()"
   ]
  },
  {
   "cell_type": "code",
   "execution_count": 319,
   "metadata": {
    "collapsed": true
   },
   "outputs": [
    {
     "name": "stdout",
     "output_type": "stream",
     "text": [
      "{\n",
      "  \"product\": \"MongoDB\",\n",
      "  \"version\": \"3.4.1\",\n",
      "  \"tags\": [\n",
      "    \"database\"\n",
      "  ],\n",
      "  \"ip\": 2890929031,\n",
      "  \"isp\": \"eSited Solutions\",\n",
      "  \"os\": null,\n",
      "  \"port\": 27017,\n",
      "  \"mongodb\": {\n",
      "    \"authentication\": true,\n",
      "    \"buildInfo\": {\n",
      "      \"storageEngines\": [\n",
      "        \"devnull\",\n",
      "        \"ephemeralForTest\",\n",
      "        \"mmapv1\",\n",
      "        \"wiredTiger\"\n",
      "      ],\n",
      "      \"buildEnvironment\": {\n",
      "        \"distarch\": \"x86_64\",\n",
      "        \"cc\": \"/opt/mongodbtoolchain/v2/bin/gcc: gcc (GCC) 5.4.0\",\n",
      "        \"cxxflags\": \"-Woverloaded-virtual -Wno-maybe-uninitialized -std=c++11\",\n",
      "        \"linkflags\": \"-pthread -Wl,-z,now -rdynamic -Wl,--fatal-warnings -fstack-protector-strong -fuse-ld=gold -Wl,--build-id -Wl,-z,noexecstack -Wl,--warn-execstack -Wl,-z,relro\",\n",
      "        \"ccflags\": \"-fno-omit-frame-pointer -fno-strict-aliasing -ggdb -pthread -Wall -Wsign-compare -Wno-unknown-pragmas -Winvalid-pch -Werror -O2 -Wno-unused-local-typedefs -Wno-unused-function -Wno-deprecated-declarations -Wno-unused-but-set-variable -Wno-missing-braces -fstack-protector-strong -fno-builtin-memcmp\",\n",
      "        \"target_arch\": \"x86_64\",\n",
      "        \"distmod\": \"rhel62\",\n",
      "        \"target_os\": \"linux\",\n",
      "        \"cxx\": \"/opt/mongodbtoolchain/v2/bin/g++: g++ (GCC) 5.4.0\"\n",
      "      },\n",
      "      \"ok\": 1.0,\n",
      "      \"sysInfo\": \"deprecated\",\n",
      "      \"modules\": [],\n",
      "      \"openssl\": {\n",
      "        \"compiled\": \"OpenSSL 1.0.1e-fips 11 Feb 2013\",\n",
      "        \"running\": \"OpenSSL 1.0.1e-fips 11 Feb 2013\"\n",
      "      },\n",
      "      \"javascriptEngine\": \"mozjs\",\n",
      "      \"version\": \"3.4.1\",\n",
      "      \"allocator\": \"tcmalloc\",\n",
      "      \"versionArray\": [\n",
      "        3,\n",
      "        4,\n",
      "        1,\n",
      "        0\n",
      "      ],\n",
      "      \"debug\": false,\n",
      "      \"maxBsonObjectSize\": 16777216,\n",
      "      \"bits\": 64,\n",
      "      \"gitVersion\": \"5e103c4f5583e2566a45d740225dc250baacfbd7\"\n",
      "    }\n",
      "  },\n",
      "  \"hostnames\": [],\n",
      "  \"location\": {\n",
      "    \"city\": \"Los Angeles\",\n",
      "    \"region_code\": \"CA\",\n",
      "    \"area_code\": 213,\n",
      "    \"longitude\": -118.27799999999999,\n",
      "    \"country_code3\": \"USA\",\n",
      "    \"country_name\": \"United States\",\n",
      "    \"postal_code\": \"90017\",\n",
      "    \"dma_code\": 803,\n",
      "    \"country_code\": \"US\",\n",
      "    \"latitude\": 34.058400000000006\n",
      "  },\n",
      "  \"timestamp\": \"2019-04-18T01:54:36.718334\",\n",
      "  \"domains\": [],\n",
      "  \"org\": \"eSited Solutions\",\n",
      "  \"asn\": \"AS22552\",\n",
      "  \"transport\": \"tcp\",\n",
      "  \"ip_str\": \"172.80.19.135\"\n",
      "}\n"
     ]
    }
   ],
   "source": [
    "#mongoList[3000].keys()\n",
    "#View one json dict to identify \n",
    "#print(json.dumps(mongoList[2569], indent = 2))"
   ]
  },
  {
   "cell_type": "code",
   "execution_count": 4,
   "metadata": {},
   "outputs": [
    {
     "name": "stdout",
     "output_type": "stream",
     "text": [
      "CURRENTLY FLATTENING THE JSON FILE FOR PROCESSING!!\n",
      "THIS WILL TAKE A MIN OR TWO...\n",
      "...\n"
     ]
    }
   ],
   "source": [
    "print(\"CURRENTLY FLATTENING THE JSON FILE FOR PROCESSING!!\")\n",
    "print(\"THIS WILL TAKE A MIN OR TWO...\")\n",
    "print(\"...\")"
   ]
  },
  {
   "cell_type": "code",
   "execution_count": 20,
   "metadata": {},
   "outputs": [
    {
     "data": {
      "text/plain": [
       "(dict_keys(['product', 'version', 'tags', 'ip', 'isp', 'os', 'port', 'mongodb', 'hostnames', 'location', 'timestamp', 'domains', 'org', 'asn', 'transport', 'ip_str']),\n",
       " {'authentication': True,\n",
       "  'buildInfo': {'ok': 1.0,\n",
       "   'OpenSSLVersion': '',\n",
       "   'sysInfo': 'Linux build8.nj1.10gen.cc 2.6.32-431.3.1.el6.x86_64 #1 SMP Fri Jan 3 21:39:27 UTC 2014 x86_64 BOOST_LIB_VERSION=1_49',\n",
       "   'javascriptEngine': 'V8',\n",
       "   'version': '2.6.5',\n",
       "   'gitVersion': 'e99d4fcb4279c0279796f237aa92fe3b64560bf6',\n",
       "   'versionArray': [2, 6, 5, 0],\n",
       "   'debug': False,\n",
       "   'compilerFlags': '-Wnon-virtual-dtor -Woverloaded-virtual -fPIC -fno-strict-aliasing -ggdb -pthread -Wall -Wsign-compare -Wno-unknown-pragmas -Winvalid-pch -pipe -Werror -O3 -Wno-unused-function -Wno-deprecated-declarations -fno-builtin-memcmp',\n",
       "   'maxBsonObjectSize': 16777216,\n",
       "   'bits': 64,\n",
       "   'loaderFlags': '-fPIC -pthread -Wl,-z,now -rdynamic',\n",
       "   'allocator': 'tcmalloc'}})"
      ]
     },
     "execution_count": 20,
     "metadata": {},
     "output_type": "execute_result"
    }
   ],
   "source": [
    "mongoList[100].keys() , mongoList[3000]['mongodb']"
   ]
  },
  {
   "cell_type": "code",
   "execution_count": 21,
   "metadata": {},
   "outputs": [],
   "source": [
    "#json_normalize is designed to take all the dictionaries from JSON and convert them to a column in a dataframe (flatten)\n",
    "mongodf = pd.io.json.json_normalize(mongoList)"
   ]
  },
  {
   "cell_type": "code",
   "execution_count": 25,
   "metadata": {},
   "outputs": [
    {
     "data": {
      "text/plain": [
       "24303"
      ]
     },
     "execution_count": 25,
     "metadata": {},
     "output_type": "execute_result"
    }
   ],
   "source": [
    "len(mongodf)"
   ]
  },
  {
   "cell_type": "code",
   "execution_count": 26,
   "metadata": {},
   "outputs": [],
   "source": [
    "#creates a new dataframe with data that is relevant for this dataframe. \n",
    "mongodb_live = mongodf[['product','mongodb.serverStatus.asserts.user','mongodb.serverStatus.host',\n",
    "                        'mongodb.serverStatus.uptime', 'version','mongodb.authentication', 'tags', \n",
    "                        'isp', 'os', 'port', 'hostnames', 'timestamp', 'domains', 'org', 'asn', \n",
    "                        'transport', 'ip_str', 'location.city', 'location.country_code', \n",
    "                        'location.latitude','location.longitude', 'location.postal_code', \n",
    "                        'location.region_code','mongodb.serverStatus.pid']]"
   ]
  },
  {
   "cell_type": "code",
   "execution_count": 29,
   "metadata": {},
   "outputs": [
    {
     "data": {
      "text/html": [
       "<div>\n",
       "<style scoped>\n",
       "    .dataframe tbody tr th:only-of-type {\n",
       "        vertical-align: middle;\n",
       "    }\n",
       "\n",
       "    .dataframe tbody tr th {\n",
       "        vertical-align: top;\n",
       "    }\n",
       "\n",
       "    .dataframe thead th {\n",
       "        text-align: right;\n",
       "    }\n",
       "</style>\n",
       "<table border=\"1\" class=\"dataframe\">\n",
       "  <thead>\n",
       "    <tr style=\"text-align: right;\">\n",
       "      <th></th>\n",
       "      <th>product</th>\n",
       "      <th>mongodb.serverStatus.asserts.user</th>\n",
       "      <th>mongodb.serverStatus.host</th>\n",
       "      <th>mongodb.serverStatus.uptime</th>\n",
       "      <th>version</th>\n",
       "      <th>mongodb.authentication</th>\n",
       "      <th>tags</th>\n",
       "      <th>isp</th>\n",
       "      <th>os</th>\n",
       "      <th>port</th>\n",
       "      <th>...</th>\n",
       "      <th>asn</th>\n",
       "      <th>transport</th>\n",
       "      <th>ip_str</th>\n",
       "      <th>location.city</th>\n",
       "      <th>location.country_code</th>\n",
       "      <th>location.latitude</th>\n",
       "      <th>location.longitude</th>\n",
       "      <th>location.postal_code</th>\n",
       "      <th>location.region_code</th>\n",
       "      <th>mongodb.serverStatus.pid</th>\n",
       "    </tr>\n",
       "  </thead>\n",
       "  <tbody>\n",
       "    <tr>\n",
       "      <th>0</th>\n",
       "      <td>MongoDB</td>\n",
       "      <td>NaN</td>\n",
       "      <td>NaN</td>\n",
       "      <td>NaN</td>\n",
       "      <td>2.6.12</td>\n",
       "      <td>True</td>\n",
       "      <td>[database]</td>\n",
       "      <td>Nexeon Technologies</td>\n",
       "      <td>None</td>\n",
       "      <td>27017</td>\n",
       "      <td>...</td>\n",
       "      <td>AS20278</td>\n",
       "      <td>tcp</td>\n",
       "      <td>172.93.133.120</td>\n",
       "      <td>West Chicago</td>\n",
       "      <td>US</td>\n",
       "      <td>41.8969</td>\n",
       "      <td>-88.2104</td>\n",
       "      <td>60185</td>\n",
       "      <td>IL</td>\n",
       "      <td>NaN</td>\n",
       "    </tr>\n",
       "    <tr>\n",
       "      <th>1</th>\n",
       "      <td>MongoDB</td>\n",
       "      <td>NaN</td>\n",
       "      <td>NaN</td>\n",
       "      <td>NaN</td>\n",
       "      <td>4.0.8</td>\n",
       "      <td>True</td>\n",
       "      <td>[database]</td>\n",
       "      <td>None</td>\n",
       "      <td>None</td>\n",
       "      <td>27017</td>\n",
       "      <td>...</td>\n",
       "      <td>NaN</td>\n",
       "      <td>tcp</td>\n",
       "      <td>3.212.26.191</td>\n",
       "      <td>None</td>\n",
       "      <td>US</td>\n",
       "      <td>37.7510</td>\n",
       "      <td>-97.8220</td>\n",
       "      <td>None</td>\n",
       "      <td>None</td>\n",
       "      <td>NaN</td>\n",
       "    </tr>\n",
       "    <tr>\n",
       "      <th>2</th>\n",
       "      <td>MongoDB</td>\n",
       "      <td>NaN</td>\n",
       "      <td>NaN</td>\n",
       "      <td>NaN</td>\n",
       "      <td>3.0.3</td>\n",
       "      <td>True</td>\n",
       "      <td>[database, cloud]</td>\n",
       "      <td>Digital Ocean</td>\n",
       "      <td>None</td>\n",
       "      <td>27017</td>\n",
       "      <td>...</td>\n",
       "      <td>AS14061</td>\n",
       "      <td>tcp</td>\n",
       "      <td>104.236.192.131</td>\n",
       "      <td>San Francisco</td>\n",
       "      <td>US</td>\n",
       "      <td>37.7749</td>\n",
       "      <td>-122.4194</td>\n",
       "      <td>94119</td>\n",
       "      <td>CA</td>\n",
       "      <td>NaN</td>\n",
       "    </tr>\n",
       "    <tr>\n",
       "      <th>3</th>\n",
       "      <td>MongoDB</td>\n",
       "      <td>99.0</td>\n",
       "      <td>mongodb-1518718340541-s-2vcpu-4gb-nyc3-01</td>\n",
       "      <td>35812616.0</td>\n",
       "      <td>3.4.7</td>\n",
       "      <td>False</td>\n",
       "      <td>[database, cloud]</td>\n",
       "      <td>Digital Ocean</td>\n",
       "      <td>None</td>\n",
       "      <td>27017</td>\n",
       "      <td>...</td>\n",
       "      <td>AS14061</td>\n",
       "      <td>tcp</td>\n",
       "      <td>159.65.162.53</td>\n",
       "      <td>New York</td>\n",
       "      <td>US</td>\n",
       "      <td>40.7214</td>\n",
       "      <td>-74.0052</td>\n",
       "      <td>10013</td>\n",
       "      <td>NY</td>\n",
       "      <td>1412.0</td>\n",
       "    </tr>\n",
       "    <tr>\n",
       "      <th>4</th>\n",
       "      <td>MongoDB</td>\n",
       "      <td>NaN</td>\n",
       "      <td>NaN</td>\n",
       "      <td>NaN</td>\n",
       "      <td>2.6.11</td>\n",
       "      <td>True</td>\n",
       "      <td>[database]</td>\n",
       "      <td>Quality Technology Services, N.J., LLC</td>\n",
       "      <td>None</td>\n",
       "      <td>27017</td>\n",
       "      <td>...</td>\n",
       "      <td>AS53907</td>\n",
       "      <td>tcp</td>\n",
       "      <td>209.10.81.237</td>\n",
       "      <td>None</td>\n",
       "      <td>US</td>\n",
       "      <td>37.7510</td>\n",
       "      <td>-97.8220</td>\n",
       "      <td>None</td>\n",
       "      <td>None</td>\n",
       "      <td>NaN</td>\n",
       "    </tr>\n",
       "  </tbody>\n",
       "</table>\n",
       "<p>5 rows × 24 columns</p>\n",
       "</div>"
      ],
      "text/plain": [
       "   product  mongodb.serverStatus.asserts.user  \\\n",
       "0  MongoDB                                NaN   \n",
       "1  MongoDB                                NaN   \n",
       "2  MongoDB                                NaN   \n",
       "3  MongoDB                               99.0   \n",
       "4  MongoDB                                NaN   \n",
       "\n",
       "                   mongodb.serverStatus.host  mongodb.serverStatus.uptime  \\\n",
       "0                                        NaN                          NaN   \n",
       "1                                        NaN                          NaN   \n",
       "2                                        NaN                          NaN   \n",
       "3  mongodb-1518718340541-s-2vcpu-4gb-nyc3-01                   35812616.0   \n",
       "4                                        NaN                          NaN   \n",
       "\n",
       "  version mongodb.authentication               tags  \\\n",
       "0  2.6.12                   True         [database]   \n",
       "1   4.0.8                   True         [database]   \n",
       "2   3.0.3                   True  [database, cloud]   \n",
       "3   3.4.7                  False  [database, cloud]   \n",
       "4  2.6.11                   True         [database]   \n",
       "\n",
       "                                      isp    os   port  ...      asn  \\\n",
       "0                     Nexeon Technologies  None  27017  ...  AS20278   \n",
       "1                                    None  None  27017  ...      NaN   \n",
       "2                           Digital Ocean  None  27017  ...  AS14061   \n",
       "3                           Digital Ocean  None  27017  ...  AS14061   \n",
       "4  Quality Technology Services, N.J., LLC  None  27017  ...  AS53907   \n",
       "\n",
       "  transport           ip_str  location.city location.country_code  \\\n",
       "0       tcp   172.93.133.120   West Chicago                    US   \n",
       "1       tcp     3.212.26.191           None                    US   \n",
       "2       tcp  104.236.192.131  San Francisco                    US   \n",
       "3       tcp    159.65.162.53       New York                    US   \n",
       "4       tcp    209.10.81.237           None                    US   \n",
       "\n",
       "  location.latitude location.longitude location.postal_code  \\\n",
       "0           41.8969           -88.2104                60185   \n",
       "1           37.7510           -97.8220                 None   \n",
       "2           37.7749          -122.4194                94119   \n",
       "3           40.7214           -74.0052                10013   \n",
       "4           37.7510           -97.8220                 None   \n",
       "\n",
       "  location.region_code  mongodb.serverStatus.pid  \n",
       "0                   IL                       NaN  \n",
       "1                 None                       NaN  \n",
       "2                   CA                       NaN  \n",
       "3                   NY                    1412.0  \n",
       "4                 None                       NaN  \n",
       "\n",
       "[5 rows x 24 columns]"
      ]
     },
     "execution_count": 29,
     "metadata": {},
     "output_type": "execute_result"
    }
   ],
   "source": [
    "mongodb_live.head()\n"
   ]
  },
  {
   "cell_type": "code",
   "execution_count": 30,
   "metadata": {},
   "outputs": [
    {
     "name": "stdout",
     "output_type": "stream",
     "text": [
      "EXTRACTING ALL THE UNSECURED AND OPEN MONGODB SERVERS IN THE UNITED STATES!!\n"
     ]
    }
   ],
   "source": [
    "print(\"EXTRACTING ALL THE UNSECURED AND OPEN MONGODB SERVERS IN THE UNITED STATES!!\")"
   ]
  },
  {
   "cell_type": "code",
   "execution_count": 31,
   "metadata": {},
   "outputs": [],
   "source": [
    "exposed_mongo = mongodb_live.loc[mongodb_live['mongodb.authentication'] == False]\n",
    "exposed_mongo.to_csv('EXPOSED_MONGO.csv', sep=',', encoding='utf-8')\n",
    "\n",
    "#exposed_mongo.head(5)"
   ]
  },
  {
   "cell_type": "code",
   "execution_count": 32,
   "metadata": {},
   "outputs": [
    {
     "name": "stdout",
     "output_type": "stream",
     "text": [
      "THERE 8180 MONGODB SERVERS EXPOSED TO THE WILD IN THE US!!\n",
      "PLEASE SEE THE .CSV OUTPUT FILED LABELED EXPOSED_MONGO TO SEE THEM!\n"
     ]
    }
   ],
   "source": [
    "print(\"THERE\", len(exposed_mongo),\"MONGODB SERVERS EXPOSED TO THE WILD IN THE US!!\")\n",
    "print(\"PLEASE SEE THE .CSV OUTPUT FILED LABELED EXPOSED_MONGO TO SEE THEM!\")\n",
    "\n",
    "      "
   ]
  },
  {
   "cell_type": "code",
   "execution_count": 33,
   "metadata": {},
   "outputs": [],
   "source": [
    "exposed_syracuse = exposed_mongo.loc[exposed_mongo[\"location.city\"] == \"Syracuse\"]\n",
    "exposed_syracuse.to_csv('EXPOSED_SYRACUSE_MONGODB.csv', sep=',', encoding='utf-8')"
   ]
  },
  {
   "cell_type": "code",
   "execution_count": 36,
   "metadata": {},
   "outputs": [
    {
     "data": {
      "text/html": [
       "<div>\n",
       "<style scoped>\n",
       "    .dataframe tbody tr th:only-of-type {\n",
       "        vertical-align: middle;\n",
       "    }\n",
       "\n",
       "    .dataframe tbody tr th {\n",
       "        vertical-align: top;\n",
       "    }\n",
       "\n",
       "    .dataframe thead th {\n",
       "        text-align: right;\n",
       "    }\n",
       "</style>\n",
       "<table border=\"1\" class=\"dataframe\">\n",
       "  <thead>\n",
       "    <tr style=\"text-align: right;\">\n",
       "      <th></th>\n",
       "      <th>product</th>\n",
       "      <th>mongodb.serverStatus.asserts.user</th>\n",
       "      <th>mongodb.serverStatus.host</th>\n",
       "      <th>mongodb.serverStatus.uptime</th>\n",
       "      <th>version</th>\n",
       "      <th>mongodb.authentication</th>\n",
       "      <th>tags</th>\n",
       "      <th>isp</th>\n",
       "      <th>os</th>\n",
       "      <th>port</th>\n",
       "      <th>...</th>\n",
       "      <th>asn</th>\n",
       "      <th>transport</th>\n",
       "      <th>ip_str</th>\n",
       "      <th>location.city</th>\n",
       "      <th>location.country_code</th>\n",
       "      <th>location.latitude</th>\n",
       "      <th>location.longitude</th>\n",
       "      <th>location.postal_code</th>\n",
       "      <th>location.region_code</th>\n",
       "      <th>mongodb.serverStatus.pid</th>\n",
       "    </tr>\n",
       "  </thead>\n",
       "  <tbody>\n",
       "    <tr>\n",
       "      <th>3385</th>\n",
       "      <td>MongoDB</td>\n",
       "      <td>25.0</td>\n",
       "      <td>lcs-vc-chen</td>\n",
       "      <td>31460015.0</td>\n",
       "      <td>3.0.15</td>\n",
       "      <td>False</td>\n",
       "      <td>[database]</td>\n",
       "      <td>Syracuse University</td>\n",
       "      <td>None</td>\n",
       "      <td>27017</td>\n",
       "      <td>...</td>\n",
       "      <td>AS11872</td>\n",
       "      <td>tcp</td>\n",
       "      <td>128.230.247.82</td>\n",
       "      <td>Syracuse</td>\n",
       "      <td>US</td>\n",
       "      <td>43.0377</td>\n",
       "      <td>-76.1396</td>\n",
       "      <td>13244</td>\n",
       "      <td>NY</td>\n",
       "      <td>13814.0</td>\n",
       "    </tr>\n",
       "  </tbody>\n",
       "</table>\n",
       "<p>1 rows × 24 columns</p>\n",
       "</div>"
      ],
      "text/plain": [
       "      product  mongodb.serverStatus.asserts.user mongodb.serverStatus.host  \\\n",
       "3385  MongoDB                               25.0               lcs-vc-chen   \n",
       "\n",
       "      mongodb.serverStatus.uptime version mongodb.authentication        tags  \\\n",
       "3385                   31460015.0  3.0.15                  False  [database]   \n",
       "\n",
       "                      isp    os   port  ...      asn transport  \\\n",
       "3385  Syracuse University  None  27017  ...  AS11872       tcp   \n",
       "\n",
       "              ip_str location.city location.country_code location.latitude  \\\n",
       "3385  128.230.247.82      Syracuse                    US           43.0377   \n",
       "\n",
       "     location.longitude location.postal_code location.region_code  \\\n",
       "3385           -76.1396                13244                   NY   \n",
       "\n",
       "      mongodb.serverStatus.pid  \n",
       "3385                   13814.0  \n",
       "\n",
       "[1 rows x 24 columns]"
      ]
     },
     "execution_count": 36,
     "metadata": {},
     "output_type": "execute_result"
    }
   ],
   "source": [
    "exposed_syracuse"
   ]
  },
  {
   "cell_type": "code",
   "execution_count": 34,
   "metadata": {},
   "outputs": [
    {
     "name": "stdout",
     "output_type": "stream",
     "text": [
      "VALIDATING WILD MONGODB SERVERS IN SYRACUSE, NY!\n",
      "THE CLEANING PROCESS FOUND 1 EXPOSED SERVERS, SEE EXPOSED SYRACUSE_MONGODB.csv\n"
     ]
    }
   ],
   "source": [
    "print(\"VALIDATING WILD MONGODB SERVERS IN SYRACUSE, NY!\")\n",
    "print(\"THE CLEANING PROCESS FOUND\", len(exposed_syracuse), \"EXPOSED SERVERS, SEE EXPOSED SYRACUSE_MONGODB.csv\")"
   ]
  },
  {
   "cell_type": "code",
   "execution_count": 35,
   "metadata": {},
   "outputs": [
    {
     "name": "stdout",
     "output_type": "stream",
     "text": [
      "....OF THE 8180 WILD SERVERS, THE AVERAGE NUMBER OF USERS IS 24332.80582049401\n",
      "....THE AVERAGE UPTIME FOR THE EXPOSED SERVERS IS 18203 DAYS\n"
     ]
    }
   ],
   "source": [
    "#find the average number of users and uptime for all exposed MONGODB servers\n",
    "averageUsers = exposed_mongo[[\"mongodb.serverStatus.asserts.user\", \"mongodb.serverStatus.uptime\"]]\n",
    "users = averageUsers[[\"mongodb.serverStatus.asserts.user\"]].mean()\n",
    "uptime = averageUsers[[\"mongodb.serverStatus.uptime\"]].mean()/1440\n",
    "print(\"....OF THE\",len(exposed_mongo),\"WILD SERVERS, THE AVERAGE NUMBER OF USERS IS\", users.item()) \n",
    "      \n",
    "print(\"....THE AVERAGE UPTIME FOR THE EXPOSED SERVERS IS\",int(uptime), \"DAYS\")"
   ]
  },
  {
   "cell_type": "code",
   "execution_count": 37,
   "metadata": {},
   "outputs": [
    {
     "data": {
      "text/plain": [
       "16"
      ]
     },
     "execution_count": 37,
     "metadata": {},
     "output_type": "execute_result"
    }
   ],
   "source": [
    "most_exposed = exposed_mongo.loc[(exposed_mongo[\"mongodb.serverStatus.asserts.user\"] > int(users)) & (exposed_mongo[\"mongodb.serverStatus.uptime\"] > int(uptime*1440))]\n",
    "most_exposed.to_csv('MOST_EXPOSED.csv', sep=',', encoding='utf-8' )\n",
    "len(most_exposed)"
   ]
  },
  {
   "cell_type": "code",
   "execution_count": 375,
   "metadata": {},
   "outputs": [
    {
     "name": "stdout",
     "output_type": "stream",
     "text": [
      "SEE THE MOST_EXPOSED.csv FILE FOR SERVER LOCATIONS WITH MORE THAN THE AVERAGE USERS AND DAYS!\n"
     ]
    }
   ],
   "source": [
    "print(\"SEE THE MOST_EXPOSED.csv FILE FOR SERVER LOCATIONS WITH MORE THAN THE AVERAGE USERS AND DAYS!\")\n",
    "print(\"THANK YOU FOR HUNTING!!\")\n",
    "\n"
   ]
  },
  {
   "cell_type": "code",
   "execution_count": 379,
   "metadata": {},
   "outputs": [
    {
     "name": "stdout",
     "output_type": "stream",
     "text": [
      "Press any key to continue \n"
     ]
    }
   ],
   "source": [
    "key = input('Press any key to continue')\n",
    "quit()"
   ]
  }
 ],
 "metadata": {
  "kernelspec": {
   "display_name": "Python 3",
   "language": "python",
   "name": "python3"
  },
  "language_info": {
   "codemirror_mode": {
    "name": "ipython",
    "version": 3
   },
   "file_extension": ".py",
   "mimetype": "text/x-python",
   "name": "python",
   "nbconvert_exporter": "python",
   "pygments_lexer": "ipython3",
   "version": "3.7.3"
  }
 },
 "nbformat": 4,
 "nbformat_minor": 2
}
